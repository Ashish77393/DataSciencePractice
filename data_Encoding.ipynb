{
 "cells": [
  {
   "cell_type": "markdown",
   "id": "374a8624",
   "metadata": {},
   "source": [
    "# data_Encoding\n"
   ]
  },
  {
   "cell_type": "code",
   "execution_count": 52,
   "id": "33b19eba",
   "metadata": {},
   "outputs": [],
   "source": [
    "import pandas as pd \n",
    "import numpy as np\n",
    "import seaborn as sns\n",
    "import matplotlib.pyplot as plt\n"
   ]
  },
  {
   "cell_type": "code",
   "execution_count": 53,
   "id": "68e7a133",
   "metadata": {},
   "outputs": [],
   "source": [
    "dataset=pd.read_csv(\"World_Marriage_Dataset.csv\")"
   ]
  },
  {
   "cell_type": "code",
   "execution_count": 54,
   "id": "319c63d9",
   "metadata": {},
   "outputs": [
    {
     "data": {
      "text/html": [
       "<div>\n",
       "<style scoped>\n",
       "    .dataframe tbody tr th:only-of-type {\n",
       "        vertical-align: middle;\n",
       "    }\n",
       "\n",
       "    .dataframe tbody tr th {\n",
       "        vertical-align: top;\n",
       "    }\n",
       "\n",
       "    .dataframe thead th {\n",
       "        text-align: right;\n",
       "    }\n",
       "</style>\n",
       "<table border=\"1\" class=\"dataframe\">\n",
       "  <thead>\n",
       "    <tr style=\"text-align: right;\">\n",
       "      <th></th>\n",
       "      <th>Sr.No.</th>\n",
       "      <th>Country</th>\n",
       "      <th>AgeGroup</th>\n",
       "      <th>Sex</th>\n",
       "      <th>MaritalStatus</th>\n",
       "      <th>DataProcess</th>\n",
       "      <th>Data Collection (Start Year)</th>\n",
       "      <th>Data Collection (End Year)</th>\n",
       "      <th>Data Source</th>\n",
       "    </tr>\n",
       "  </thead>\n",
       "  <tbody>\n",
       "    <tr>\n",
       "      <th>0</th>\n",
       "      <td>1</td>\n",
       "      <td>Afghanistan</td>\n",
       "      <td>[15-19]</td>\n",
       "      <td>Man</td>\n",
       "      <td>Divorced</td>\n",
       "      <td>Survey</td>\n",
       "      <td>1972</td>\n",
       "      <td>1974</td>\n",
       "      <td>National statistics</td>\n",
       "    </tr>\n",
       "    <tr>\n",
       "      <th>1</th>\n",
       "      <td>2</td>\n",
       "      <td>Afghanistan</td>\n",
       "      <td>[20-24]</td>\n",
       "      <td>Man</td>\n",
       "      <td>Divorced</td>\n",
       "      <td>Survey</td>\n",
       "      <td>1972</td>\n",
       "      <td>1974</td>\n",
       "      <td>National statistics</td>\n",
       "    </tr>\n",
       "    <tr>\n",
       "      <th>2</th>\n",
       "      <td>3</td>\n",
       "      <td>Afghanistan</td>\n",
       "      <td>[25-29]</td>\n",
       "      <td>Man</td>\n",
       "      <td>Divorced</td>\n",
       "      <td>Survey</td>\n",
       "      <td>1972</td>\n",
       "      <td>1974</td>\n",
       "      <td>National statistics</td>\n",
       "    </tr>\n",
       "    <tr>\n",
       "      <th>3</th>\n",
       "      <td>4</td>\n",
       "      <td>Afghanistan</td>\n",
       "      <td>[30-34]</td>\n",
       "      <td>Man</td>\n",
       "      <td>Divorced</td>\n",
       "      <td>Survey</td>\n",
       "      <td>1972</td>\n",
       "      <td>1974</td>\n",
       "      <td>National statistics</td>\n",
       "    </tr>\n",
       "    <tr>\n",
       "      <th>4</th>\n",
       "      <td>5</td>\n",
       "      <td>Afghanistan</td>\n",
       "      <td>[35-39]</td>\n",
       "      <td>Man</td>\n",
       "      <td>Divorced</td>\n",
       "      <td>Survey</td>\n",
       "      <td>1972</td>\n",
       "      <td>1974</td>\n",
       "      <td>National statistics</td>\n",
       "    </tr>\n",
       "  </tbody>\n",
       "</table>\n",
       "</div>"
      ],
      "text/plain": [
       "   Sr.No.      Country AgeGroup  Sex MaritalStatus DataProcess  \\\n",
       "0       1  Afghanistan  [15-19]  Man      Divorced      Survey   \n",
       "1       2  Afghanistan  [20-24]  Man      Divorced      Survey   \n",
       "2       3  Afghanistan  [25-29]  Man      Divorced      Survey   \n",
       "3       4  Afghanistan  [30-34]  Man      Divorced      Survey   \n",
       "4       5  Afghanistan  [35-39]  Man      Divorced      Survey   \n",
       "\n",
       "   Data Collection (Start Year)  Data Collection (End Year)  \\\n",
       "0                          1972                        1974   \n",
       "1                          1972                        1974   \n",
       "2                          1972                        1974   \n",
       "3                          1972                        1974   \n",
       "4                          1972                        1974   \n",
       "\n",
       "           Data Source  \n",
       "0  National statistics  \n",
       "1  National statistics  \n",
       "2  National statistics  \n",
       "3  National statistics  \n",
       "4  National statistics  "
      ]
     },
     "execution_count": 54,
     "metadata": {},
     "output_type": "execute_result"
    }
   ],
   "source": [
    "dataset.head(5)"
   ]
  },
  {
   "cell_type": "code",
   "execution_count": 55,
   "id": "8fc213d7",
   "metadata": {},
   "outputs": [
    {
     "data": {
      "text/plain": [
       "Sr.No.                          0\n",
       "Country                         0\n",
       "AgeGroup                        0\n",
       "Sex                             0\n",
       "MaritalStatus                   0\n",
       "DataProcess                     0\n",
       "Data Collection (Start Year)    0\n",
       "Data Collection (End Year)      0\n",
       "Data Source                     0\n",
       "dtype: int64"
      ]
     },
     "execution_count": 55,
     "metadata": {},
     "output_type": "execute_result"
    }
   ],
   "source": [
    "dataset.isnull().sum()"
   ]
  },
  {
   "cell_type": "code",
   "execution_count": 56,
   "id": "9d973f53",
   "metadata": {},
   "outputs": [],
   "source": [
    "en_data=dataset[[\"Sex\"]]"
   ]
  },
  {
   "cell_type": "code",
   "execution_count": 57,
   "id": "97b3bbc3",
   "metadata": {},
   "outputs": [
    {
     "data": {
      "text/html": [
       "<div>\n",
       "<style scoped>\n",
       "    .dataframe tbody tr th:only-of-type {\n",
       "        vertical-align: middle;\n",
       "    }\n",
       "\n",
       "    .dataframe tbody tr th {\n",
       "        vertical-align: top;\n",
       "    }\n",
       "\n",
       "    .dataframe thead th {\n",
       "        text-align: right;\n",
       "    }\n",
       "</style>\n",
       "<table border=\"1\" class=\"dataframe\">\n",
       "  <thead>\n",
       "    <tr style=\"text-align: right;\">\n",
       "      <th></th>\n",
       "      <th>Sex</th>\n",
       "    </tr>\n",
       "  </thead>\n",
       "  <tbody>\n",
       "    <tr>\n",
       "      <th>0</th>\n",
       "      <td>Man</td>\n",
       "    </tr>\n",
       "    <tr>\n",
       "      <th>1</th>\n",
       "      <td>Man</td>\n",
       "    </tr>\n",
       "    <tr>\n",
       "      <th>2</th>\n",
       "      <td>Man</td>\n",
       "    </tr>\n",
       "    <tr>\n",
       "      <th>3</th>\n",
       "      <td>Man</td>\n",
       "    </tr>\n",
       "    <tr>\n",
       "      <th>4</th>\n",
       "      <td>Man</td>\n",
       "    </tr>\n",
       "    <tr>\n",
       "      <th>...</th>\n",
       "      <td>...</td>\n",
       "    </tr>\n",
       "    <tr>\n",
       "      <th>271599</th>\n",
       "      <td>Woman</td>\n",
       "    </tr>\n",
       "    <tr>\n",
       "      <th>271600</th>\n",
       "      <td>Woman</td>\n",
       "    </tr>\n",
       "    <tr>\n",
       "      <th>271601</th>\n",
       "      <td>Woman</td>\n",
       "    </tr>\n",
       "    <tr>\n",
       "      <th>271602</th>\n",
       "      <td>Woman</td>\n",
       "    </tr>\n",
       "    <tr>\n",
       "      <th>271603</th>\n",
       "      <td>Woman</td>\n",
       "    </tr>\n",
       "  </tbody>\n",
       "</table>\n",
       "<p>271604 rows × 1 columns</p>\n",
       "</div>"
      ],
      "text/plain": [
       "          Sex\n",
       "0         Man\n",
       "1         Man\n",
       "2         Man\n",
       "3         Man\n",
       "4         Man\n",
       "...       ...\n",
       "271599  Woman\n",
       "271600  Woman\n",
       "271601  Woman\n",
       "271602  Woman\n",
       "271603  Woman\n",
       "\n",
       "[271604 rows x 1 columns]"
      ]
     },
     "execution_count": 57,
     "metadata": {},
     "output_type": "execute_result"
    }
   ],
   "source": [
    "en_data"
   ]
  },
  {
   "cell_type": "code",
   "execution_count": 58,
   "id": "2fcdc27c",
   "metadata": {},
   "outputs": [
    {
     "name": "stdout",
     "output_type": "stream",
     "text": [
      "<class 'pandas.core.frame.DataFrame'>\n",
      "RangeIndex: 271604 entries, 0 to 271603\n",
      "Data columns (total 2 columns):\n",
      " #   Column     Non-Null Count   Dtype\n",
      "---  ------     --------------   -----\n",
      " 0   Sex_Man    271604 non-null  bool \n",
      " 1   Sex_Woman  271604 non-null  bool \n",
      "dtypes: bool(2)\n",
      "memory usage: 530.6 KB\n"
     ]
    }
   ],
   "source": [
    "pd.get_dummies(en_data).info()"
   ]
  },
  {
   "cell_type": "code",
   "execution_count": 59,
   "id": "7bb224ad",
   "metadata": {},
   "outputs": [],
   "source": [
    "from sklearn.preprocessing import OneHotEncoder"
   ]
  },
  {
   "cell_type": "code",
   "execution_count": 60,
   "id": "3175000c",
   "metadata": {},
   "outputs": [
    {
     "data": {
      "text/plain": [
       "array([[0.],\n",
       "       [0.],\n",
       "       [0.],\n",
       "       ...,\n",
       "       [1.],\n",
       "       [1.],\n",
       "       [1.]])"
      ]
     },
     "execution_count": 60,
     "metadata": {},
     "output_type": "execute_result"
    }
   ],
   "source": [
    "ohe=OneHotEncoder(drop=\"first\")\n",
    "ar=ohe.fit_transform(en_data).toarray()\n",
    "ar"
   ]
  },
  {
   "cell_type": "code",
   "execution_count": 61,
   "id": "4e339d10",
   "metadata": {},
   "outputs": [
    {
     "data": {
      "text/html": [
       "<div>\n",
       "<style scoped>\n",
       "    .dataframe tbody tr th:only-of-type {\n",
       "        vertical-align: middle;\n",
       "    }\n",
       "\n",
       "    .dataframe tbody tr th {\n",
       "        vertical-align: top;\n",
       "    }\n",
       "\n",
       "    .dataframe thead th {\n",
       "        text-align: right;\n",
       "    }\n",
       "</style>\n",
       "<table border=\"1\" class=\"dataframe\">\n",
       "  <thead>\n",
       "    <tr style=\"text-align: right;\">\n",
       "      <th></th>\n",
       "      <th>Sex_Woman</th>\n",
       "    </tr>\n",
       "  </thead>\n",
       "  <tbody>\n",
       "    <tr>\n",
       "      <th>0</th>\n",
       "      <td>0.0</td>\n",
       "    </tr>\n",
       "    <tr>\n",
       "      <th>1</th>\n",
       "      <td>0.0</td>\n",
       "    </tr>\n",
       "    <tr>\n",
       "      <th>2</th>\n",
       "      <td>0.0</td>\n",
       "    </tr>\n",
       "    <tr>\n",
       "      <th>3</th>\n",
       "      <td>0.0</td>\n",
       "    </tr>\n",
       "    <tr>\n",
       "      <th>4</th>\n",
       "      <td>0.0</td>\n",
       "    </tr>\n",
       "    <tr>\n",
       "      <th>...</th>\n",
       "      <td>...</td>\n",
       "    </tr>\n",
       "    <tr>\n",
       "      <th>271599</th>\n",
       "      <td>1.0</td>\n",
       "    </tr>\n",
       "    <tr>\n",
       "      <th>271600</th>\n",
       "      <td>1.0</td>\n",
       "    </tr>\n",
       "    <tr>\n",
       "      <th>271601</th>\n",
       "      <td>1.0</td>\n",
       "    </tr>\n",
       "    <tr>\n",
       "      <th>271602</th>\n",
       "      <td>1.0</td>\n",
       "    </tr>\n",
       "    <tr>\n",
       "      <th>271603</th>\n",
       "      <td>1.0</td>\n",
       "    </tr>\n",
       "  </tbody>\n",
       "</table>\n",
       "<p>271604 rows × 1 columns</p>\n",
       "</div>"
      ],
      "text/plain": [
       "        Sex_Woman\n",
       "0             0.0\n",
       "1             0.0\n",
       "2             0.0\n",
       "3             0.0\n",
       "4             0.0\n",
       "...           ...\n",
       "271599        1.0\n",
       "271600        1.0\n",
       "271601        1.0\n",
       "271602        1.0\n",
       "271603        1.0\n",
       "\n",
       "[271604 rows x 1 columns]"
      ]
     },
     "execution_count": 61,
     "metadata": {},
     "output_type": "execute_result"
    }
   ],
   "source": [
    "pd.DataFrame(ar,columns=[\"Sex_Woman\"])"
   ]
  },
  {
   "cell_type": "code",
   "execution_count": null,
   "id": "1ca0006b",
   "metadata": {},
   "outputs": [],
   "source": [
    "x=[1,2,3,4,5,6]"
   ]
  },
  {
   "cell_type": "code",
   "execution_count": null,
   "id": "53f3d299",
   "metadata": {},
   "outputs": [],
   "source": [
    "plt.bar(dataset[\"Country\"],dataset[\"Sex\"])"
   ]
  },
  {
   "cell_type": "code",
   "execution_count": null,
   "id": "0c4ba34f",
   "metadata": {},
   "outputs": [],
   "source": []
  }
 ],
 "metadata": {
  "kernelspec": {
   "display_name": "Python 3 (ipykernel)",
   "language": "python",
   "name": "python3"
  },
  "language_info": {
   "codemirror_mode": {
    "name": "ipython",
    "version": 3
   },
   "file_extension": ".py",
   "mimetype": "text/x-python",
   "name": "python",
   "nbconvert_exporter": "python",
   "pygments_lexer": "ipython3",
   "version": "3.11.5"
  }
 },
 "nbformat": 4,
 "nbformat_minor": 5
}
