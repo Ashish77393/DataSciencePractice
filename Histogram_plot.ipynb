{
 "cells": [
  {
   "cell_type": "code",
   "execution_count": 1,
   "id": "9a3a6048",
   "metadata": {},
   "outputs": [],
   "source": [
    "import matplotlib.pyplot as plt\n",
    "import numpy as np\n",
    "import random"
   ]
  },
  {
   "cell_type": "code",
   "execution_count": 2,
   "id": "6320c397",
   "metadata": {},
   "outputs": [
    {
     "data": {
      "text/plain": [
       "array([18, 13, 19, 17, 16, 19, 12, 19, 13, 17, 14, 15, 18, 12, 16, 14, 19,\n",
       "       15, 17, 16, 12, 19, 10, 11, 11, 16, 10, 11, 19, 13, 15, 15, 10, 19,\n",
       "       11, 19, 19, 18, 15, 19, 15, 17, 18, 11, 16, 16, 13, 12, 18, 15])"
      ]
     },
     "execution_count": 2,
     "metadata": {},
     "output_type": "execute_result"
    }
   ],
   "source": [
    "np.random.randint(10,20,(50))"
   ]
  },
  {
   "cell_type": "code",
   "execution_count": 3,
   "id": "9a0bb442",
   "metadata": {},
   "outputs": [],
   "source": [
    "np=[18, 13, 19, 17, 16, 19, 12, 19, 13, 17, 14, 15, 18, 12, 16, 14, 19,\n",
    "       15, 17, 16, 12, 19, 10, 11, 11, 16, 10, 11, 19, 13, 15, 15, 10, 19,\n",
    "       11, 19, 19, 18, 15, 19, 15, 17, 18, 11, 16, 16, 13, 12, 18, 15]"
   ]
  },
  {
   "cell_type": "code",
   "execution_count": 16,
   "id": "b6fd6bcb",
   "metadata": {},
   "outputs": [
    {
     "data": {
      "text/plain": [
       "(array([ 3.,  5.,  4.,  4.,  2.,  7.,  6.,  4.,  5., 10.]),\n",
       " array([10. , 10.9, 11.8, 12.7, 13.6, 14.5, 15.4, 16.3, 17.2, 18.1, 19. ]),\n",
       " <BarContainer object of 10 artists>)"
      ]
     },
     "execution_count": 16,
     "metadata": {},
     "output_type": "execute_result"
    },
    {
     "data": {
      "image/png": "[encoded data removed]",
      "text/plain": [
       "<Figure size 640x480 with 1 Axes>"
      ]
     },
     "metadata": {},
     "output_type": "display_data"
    }
   ],
   "source": [
    "l=[10,20,30,40,50,60]\n",
    "plt.hist(np,color=\"red\",edgecolor=\"green\")\n"
   ]
  },
  {
   "cell_type": "code",
   "execution_count": null,
   "id": "bfa73216",
   "metadata": {},
   "outputs": [],
   "source": []
  }
 ],
 "metadata": {
  "kernelspec": {
   "display_name": "Python 3 (ipykernel)",
   "language": "python",
   "name": "python3"
  },
  "language_info": {
   "codemirror_mode": {
    "name": "ipython",
    "version": 3
   },
   "file_extension": ".py",
   "mimetype": "text/x-python",
   "name": "python",
   "nbconvert_exporter": "python",
   "pygments_lexer": "ipython3",
   "version": "3.11.5"
  }
 },
 "nbformat": 4,
 "nbformat_minor": 5
}
