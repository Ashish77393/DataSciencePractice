{
 "cells": [
  {
   "cell_type": "code",
   "execution_count": 1,
   "id": "fc117aa6",
   "metadata": {},
   "outputs": [
    {
     "ename": "ModuleNotFoundError",
     "evalue": "No module named 'mysql'",
     "output_type": "error",
     "traceback": [
      "\u001b[1;31m---------------------------------------------------------------------------\u001b[0m",
      "\u001b[1;31mModuleNotFoundError\u001b[0m                       Traceback (most recent call last)",
      "Cell \u001b[1;32mIn[1], line 1\u001b[0m\n\u001b[1;32m----> 1\u001b[0m \u001b[38;5;28;01mimport\u001b[39;00m \u001b[38;5;21;01mmysql\u001b[39;00m\u001b[38;5;21;01m.\u001b[39;00m\u001b[38;5;21;01mconnector\u001b[39;00m\n\u001b[0;32m      3\u001b[0m mydb \u001b[38;5;241m=\u001b[39m mysql\u001b[38;5;241m.\u001b[39mconnector\u001b[38;5;241m.\u001b[39mconnect(\n\u001b[0;32m      4\u001b[0m   host\u001b[38;5;241m=\u001b[39m\u001b[38;5;124m\"\u001b[39m\u001b[38;5;124mlocalhost\u001b[39m\u001b[38;5;124m\"\u001b[39m,\n\u001b[0;32m      5\u001b[0m   user\u001b[38;5;241m=\u001b[39m\u001b[38;5;124m\"\u001b[39m\u001b[38;5;124mroot\u001b[39m\u001b[38;5;124m\"\u001b[39m,\n\u001b[1;32m   (...)\u001b[0m\n\u001b[0;32m      8\u001b[0m  \n\u001b[0;32m      9\u001b[0m )\n\u001b[0;32m     10\u001b[0m \u001b[38;5;28mprint\u001b[39m(\u001b[38;5;124m\"\u001b[39m\u001b[38;5;124mwhat do u want to see this pizza shop\u001b[39m\u001b[38;5;130;01m\\n\u001b[39;00m\u001b[38;5;124m 1.How many types of pizz available and price\u001b[39m\u001b[38;5;130;01m\\n\u001b[39;00m\u001b[38;5;124m 2.max size of pizza and price\u001b[39m\u001b[38;5;130;01m\\n\u001b[39;00m\u001b[38;5;124m 3.which pizza is most popular\u001b[39m\u001b[38;5;130;01m\\n\u001b[39;00m\u001b[38;5;124m 4.which pizza item is most expensive\u001b[39m\u001b[38;5;130;01m\\n\u001b[39;00m\u001b[38;5;124m 5.which pizza is cheaper\u001b[39m\u001b[38;5;130;01m\\n\u001b[39;00m\u001b[38;5;124m\"\u001b[39m)\n",
      "\u001b[1;31mModuleNotFoundError\u001b[0m: No module named 'mysql'"
     ]
    }
   ],
   "source": [
    "import mysql.connector\n",
    "\n",
    "mydb = mysql.connector.connect(\n",
    "  host=\"localhost\",\n",
    "  user=\"root\",\n",
    "  password=\"Ashi@12345\",\n",
    "  database=\"pizzahot\"\n",
    " \n",
    ")\n",
    "print(\"what do u want to see this pizza shop\\n 1.How many types of pizz available and price\\n 2.max size of pizza and price\\n 3.which pizza is most popular\\n 4.which pizza item is most expensive\\n 5.which pizza is cheaper\\n\")\n",
    "x=int(input(\"enter the number that u want t print\"))\n",
    "match x:\n",
    "    case 1:\n",
    "     mycursur=mydb.cursor()\n",
    "     mycursur.execute(\"select pizza_types.name,pizzas.price,pizzas.size from pizzas join pizza_types on pizzas.pizza_type_id=pizza_types.pizza_type_id order by price desc \")\n",
    "     mydata=mycursur.fetchall()\n",
    "     for x in mydata:\n",
    "        print(x)\n",
    "\n",
    "    case 6:\n",
    "     print(\"data is not avilable\")"
   ]
  },
  {
   "cell_type": "code",
   "execution_count": null,
   "id": "0b0043e2",
   "metadata": {},
   "outputs": [],
   "source": []
  }
 ],
 "metadata": {
  "kernelspec": {
   "display_name": "Python 3 (ipykernel)",
   "language": "python",
   "name": "python3"
  },
  "language_info": {
   "codemirror_mode": {
    "name": "ipython",
    "version": 3
   },
   "file_extension": ".py",
   "mimetype": "text/x-python",
   "name": "python",
   "nbconvert_exporter": "python",
   "pygments_lexer": "ipython3",
   "version": "3.11.5"
  }
 },
 "nbformat": 4,
 "nbformat_minor": 5
}
