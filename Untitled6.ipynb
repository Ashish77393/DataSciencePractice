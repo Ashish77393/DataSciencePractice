{
 "cells": [
  {
   "cell_type": "code",
   "execution_count": 2,
   "id": "609b5005",
   "metadata": {},
   "outputs": [],
   "source": [
    "import numpy as np\n",
    "import pandas as pd"
   ]
  },
  {
   "cell_type": "code",
   "execution_count": 3,
   "id": "72864b68",
   "metadata": {},
   "outputs": [],
   "source": [
    "ser=pd.Series(np.random.rand(35))"
   ]
  },
  {
   "cell_type": "code",
   "execution_count": 4,
   "id": "754ebb3c",
   "metadata": {},
   "outputs": [
    {
     "data": {
      "text/plain": [
       "pandas.core.series.Series"
      ]
     },
     "execution_count": 4,
     "metadata": {},
     "output_type": "execute_result"
    }
   ],
   "source": [
    "type(ser)\n"
   ]
  },
  {
   "cell_type": "code",
   "execution_count": 5,
   "id": "44526676",
   "metadata": {},
   "outputs": [
    {
     "data": {
      "text/plain": [
       "0     0.658181\n",
       "1     0.321950\n",
       "2     0.575048\n",
       "3     0.843049\n",
       "4     0.644061\n",
       "5     0.843071\n",
       "6     0.590981\n",
       "7     0.706966\n",
       "8     0.911273\n",
       "9     0.401969\n",
       "10    0.164954\n",
       "11    0.400657\n",
       "12    0.628320\n",
       "13    0.522890\n",
       "14    0.434331\n",
       "15    0.511984\n",
       "16    0.879613\n",
       "17    0.493769\n",
       "18    0.606756\n",
       "19    0.411400\n",
       "20    0.026422\n",
       "21    0.327056\n",
       "22    0.560523\n",
       "23    0.230499\n",
       "24    0.203710\n",
       "25    0.884968\n",
       "26    0.950370\n",
       "27    0.201842\n",
       "28    0.074584\n",
       "29    0.784749\n",
       "30    0.313396\n",
       "31    0.804868\n",
       "32    0.552714\n",
       "33    0.400846\n",
       "34    0.286724\n",
       "dtype: float64"
      ]
     },
     "execution_count": 5,
     "metadata": {},
     "output_type": "execute_result"
    }
   ],
   "source": [
    "ser"
   ]
  },
  {
   "cell_type": "code",
   "execution_count": 6,
   "id": "45bb5dc4",
   "metadata": {},
   "outputs": [],
   "source": [
    "newdf=pd.DataFrame(np.random.rand(334,5),index=np.arange(334))"
   ]
  },
  {
   "cell_type": "code",
   "execution_count": 8,
   "id": "ab719106",
   "metadata": {},
   "outputs": [
    {
     "data": {
      "text/html": [
       "<div>\n",
       "<style scoped>\n",
       "    .dataframe tbody tr th:only-of-type {\n",
       "        vertical-align: middle;\n",
       "    }\n",
       "\n",
       "    .dataframe tbody tr th {\n",
       "        vertical-align: top;\n",
       "    }\n",
       "\n",
       "    .dataframe thead th {\n",
       "        text-align: right;\n",
       "    }\n",
       "</style>\n",
       "<table border=\"1\" class=\"dataframe\">\n",
       "  <thead>\n",
       "    <tr style=\"text-align: right;\">\n",
       "      <th></th>\n",
       "      <th>0</th>\n",
       "      <th>1</th>\n",
       "      <th>2</th>\n",
       "      <th>3</th>\n",
       "      <th>4</th>\n",
       "    </tr>\n",
       "  </thead>\n",
       "  <tbody>\n",
       "    <tr>\n",
       "      <th>0</th>\n",
       "      <td>0.409382</td>\n",
       "      <td>0.094650</td>\n",
       "      <td>0.273500</td>\n",
       "      <td>0.724839</td>\n",
       "      <td>0.033768</td>\n",
       "    </tr>\n",
       "    <tr>\n",
       "      <th>1</th>\n",
       "      <td>0.823409</td>\n",
       "      <td>0.357506</td>\n",
       "      <td>0.055128</td>\n",
       "      <td>0.265273</td>\n",
       "      <td>0.008846</td>\n",
       "    </tr>\n",
       "    <tr>\n",
       "      <th>2</th>\n",
       "      <td>0.314450</td>\n",
       "      <td>0.689743</td>\n",
       "      <td>0.773020</td>\n",
       "      <td>0.758607</td>\n",
       "      <td>0.225985</td>\n",
       "    </tr>\n",
       "    <tr>\n",
       "      <th>3</th>\n",
       "      <td>0.953147</td>\n",
       "      <td>0.593030</td>\n",
       "      <td>0.079273</td>\n",
       "      <td>0.088944</td>\n",
       "      <td>0.027267</td>\n",
       "    </tr>\n",
       "    <tr>\n",
       "      <th>4</th>\n",
       "      <td>0.847229</td>\n",
       "      <td>0.604065</td>\n",
       "      <td>0.011600</td>\n",
       "      <td>0.211505</td>\n",
       "      <td>0.814884</td>\n",
       "    </tr>\n",
       "  </tbody>\n",
       "</table>\n",
       "</div>"
      ],
      "text/plain": [
       "          0         1         2         3         4\n",
       "0  0.409382  0.094650  0.273500  0.724839  0.033768\n",
       "1  0.823409  0.357506  0.055128  0.265273  0.008846\n",
       "2  0.314450  0.689743  0.773020  0.758607  0.225985\n",
       "3  0.953147  0.593030  0.079273  0.088944  0.027267\n",
       "4  0.847229  0.604065  0.011600  0.211505  0.814884"
      ]
     },
     "execution_count": 8,
     "metadata": {},
     "output_type": "execute_result"
    }
   ],
   "source": [
    "newdf.head()"
   ]
  },
  {
   "cell_type": "code",
   "execution_count": 9,
   "id": "853fda79",
   "metadata": {},
   "outputs": [
    {
     "data": {
      "text/html": [
       "<div>\n",
       "<style scoped>\n",
       "    .dataframe tbody tr th:only-of-type {\n",
       "        vertical-align: middle;\n",
       "    }\n",
       "\n",
       "    .dataframe tbody tr th {\n",
       "        vertical-align: top;\n",
       "    }\n",
       "\n",
       "    .dataframe thead th {\n",
       "        text-align: right;\n",
       "    }\n",
       "</style>\n",
       "<table border=\"1\" class=\"dataframe\">\n",
       "  <thead>\n",
       "    <tr style=\"text-align: right;\">\n",
       "      <th></th>\n",
       "      <th>0</th>\n",
       "      <th>1</th>\n",
       "      <th>2</th>\n",
       "      <th>3</th>\n",
       "      <th>4</th>\n",
       "    </tr>\n",
       "  </thead>\n",
       "  <tbody>\n",
       "    <tr>\n",
       "      <th>329</th>\n",
       "      <td>0.257811</td>\n",
       "      <td>0.234869</td>\n",
       "      <td>0.961062</td>\n",
       "      <td>0.762032</td>\n",
       "      <td>0.225811</td>\n",
       "    </tr>\n",
       "    <tr>\n",
       "      <th>330</th>\n",
       "      <td>0.662765</td>\n",
       "      <td>0.661433</td>\n",
       "      <td>0.398514</td>\n",
       "      <td>0.765491</td>\n",
       "      <td>0.555305</td>\n",
       "    </tr>\n",
       "    <tr>\n",
       "      <th>331</th>\n",
       "      <td>0.116057</td>\n",
       "      <td>0.656433</td>\n",
       "      <td>0.129175</td>\n",
       "      <td>0.749635</td>\n",
       "      <td>0.899217</td>\n",
       "    </tr>\n",
       "    <tr>\n",
       "      <th>332</th>\n",
       "      <td>0.617367</td>\n",
       "      <td>0.174110</td>\n",
       "      <td>0.932883</td>\n",
       "      <td>0.119646</td>\n",
       "      <td>0.367340</td>\n",
       "    </tr>\n",
       "    <tr>\n",
       "      <th>333</th>\n",
       "      <td>0.915747</td>\n",
       "      <td>0.823366</td>\n",
       "      <td>0.640198</td>\n",
       "      <td>0.721345</td>\n",
       "      <td>0.929275</td>\n",
       "    </tr>\n",
       "  </tbody>\n",
       "</table>\n",
       "</div>"
      ],
      "text/plain": [
       "            0         1         2         3         4\n",
       "329  0.257811  0.234869  0.961062  0.762032  0.225811\n",
       "330  0.662765  0.661433  0.398514  0.765491  0.555305\n",
       "331  0.116057  0.656433  0.129175  0.749635  0.899217\n",
       "332  0.617367  0.174110  0.932883  0.119646  0.367340\n",
       "333  0.915747  0.823366  0.640198  0.721345  0.929275"
      ]
     },
     "execution_count": 9,
     "metadata": {},
     "output_type": "execute_result"
    }
   ],
   "source": [
    "newdf.tail()"
   ]
  },
  {
   "cell_type": "code",
   "execution_count": 10,
   "id": "b4b3976b",
   "metadata": {},
   "outputs": [
    {
     "data": {
      "text/plain": [
       "pandas.core.frame.DataFrame"
      ]
     },
     "execution_count": 10,
     "metadata": {},
     "output_type": "execute_result"
    }
   ],
   "source": [
    "type(newdf)"
   ]
  },
  {
   "cell_type": "code",
   "execution_count": 11,
   "id": "b49a52c1",
   "metadata": {},
   "outputs": [
    {
     "data": {
      "text/plain": [
       "<bound method NDFrame.describe of             0         1         2         3         4\n",
       "0    0.409382  0.094650  0.273500  0.724839  0.033768\n",
       "1    0.823409  0.357506  0.055128  0.265273  0.008846\n",
       "2    0.314450  0.689743  0.773020  0.758607  0.225985\n",
       "3    0.953147  0.593030  0.079273  0.088944  0.027267\n",
       "4    0.847229  0.604065  0.011600  0.211505  0.814884\n",
       "..        ...       ...       ...       ...       ...\n",
       "329  0.257811  0.234869  0.961062  0.762032  0.225811\n",
       "330  0.662765  0.661433  0.398514  0.765491  0.555305\n",
       "331  0.116057  0.656433  0.129175  0.749635  0.899217\n",
       "332  0.617367  0.174110  0.932883  0.119646  0.367340\n",
       "333  0.915747  0.823366  0.640198  0.721345  0.929275\n",
       "\n",
       "[334 rows x 5 columns]>"
      ]
     },
     "execution_count": 11,
     "metadata": {},
     "output_type": "execute_result"
    }
   ],
   "source": [
    "newdf.describe"
   ]
  },
  {
   "cell_type": "code",
   "execution_count": 12,
   "id": "85825c21",
   "metadata": {},
   "outputs": [
    {
     "data": {
      "text/html": [
       "<div>\n",
       "<style scoped>\n",
       "    .dataframe tbody tr th:only-of-type {\n",
       "        vertical-align: middle;\n",
       "    }\n",
       "\n",
       "    .dataframe tbody tr th {\n",
       "        vertical-align: top;\n",
       "    }\n",
       "\n",
       "    .dataframe thead th {\n",
       "        text-align: right;\n",
       "    }\n",
       "</style>\n",
       "<table border=\"1\" class=\"dataframe\">\n",
       "  <thead>\n",
       "    <tr style=\"text-align: right;\">\n",
       "      <th></th>\n",
       "      <th>0</th>\n",
       "      <th>1</th>\n",
       "      <th>2</th>\n",
       "      <th>3</th>\n",
       "      <th>4</th>\n",
       "    </tr>\n",
       "  </thead>\n",
       "  <tbody>\n",
       "    <tr>\n",
       "      <th>count</th>\n",
       "      <td>334.000000</td>\n",
       "      <td>334.000000</td>\n",
       "      <td>334.000000</td>\n",
       "      <td>334.000000</td>\n",
       "      <td>334.000000</td>\n",
       "    </tr>\n",
       "    <tr>\n",
       "      <th>mean</th>\n",
       "      <td>0.511591</td>\n",
       "      <td>0.487483</td>\n",
       "      <td>0.490812</td>\n",
       "      <td>0.513417</td>\n",
       "      <td>0.506417</td>\n",
       "    </tr>\n",
       "    <tr>\n",
       "      <th>std</th>\n",
       "      <td>0.281683</td>\n",
       "      <td>0.274003</td>\n",
       "      <td>0.291825</td>\n",
       "      <td>0.281565</td>\n",
       "      <td>0.290475</td>\n",
       "    </tr>\n",
       "    <tr>\n",
       "      <th>min</th>\n",
       "      <td>0.005206</td>\n",
       "      <td>0.004519</td>\n",
       "      <td>0.003140</td>\n",
       "      <td>0.003185</td>\n",
       "      <td>0.000904</td>\n",
       "    </tr>\n",
       "    <tr>\n",
       "      <th>25%</th>\n",
       "      <td>0.275882</td>\n",
       "      <td>0.268266</td>\n",
       "      <td>0.236328</td>\n",
       "      <td>0.273023</td>\n",
       "      <td>0.246507</td>\n",
       "    </tr>\n",
       "    <tr>\n",
       "      <th>50%</th>\n",
       "      <td>0.507766</td>\n",
       "      <td>0.481533</td>\n",
       "      <td>0.502175</td>\n",
       "      <td>0.537844</td>\n",
       "      <td>0.508494</td>\n",
       "    </tr>\n",
       "    <tr>\n",
       "      <th>75%</th>\n",
       "      <td>0.749338</td>\n",
       "      <td>0.711313</td>\n",
       "      <td>0.746716</td>\n",
       "      <td>0.738356</td>\n",
       "      <td>0.760579</td>\n",
       "    </tr>\n",
       "    <tr>\n",
       "      <th>max</th>\n",
       "      <td>0.998287</td>\n",
       "      <td>0.998782</td>\n",
       "      <td>0.997110</td>\n",
       "      <td>0.998963</td>\n",
       "      <td>0.998399</td>\n",
       "    </tr>\n",
       "  </tbody>\n",
       "</table>\n",
       "</div>"
      ],
      "text/plain": [
       "                0           1           2           3           4\n",
       "count  334.000000  334.000000  334.000000  334.000000  334.000000\n",
       "mean     0.511591    0.487483    0.490812    0.513417    0.506417\n",
       "std      0.281683    0.274003    0.291825    0.281565    0.290475\n",
       "min      0.005206    0.004519    0.003140    0.003185    0.000904\n",
       "25%      0.275882    0.268266    0.236328    0.273023    0.246507\n",
       "50%      0.507766    0.481533    0.502175    0.537844    0.508494\n",
       "75%      0.749338    0.711313    0.746716    0.738356    0.760579\n",
       "max      0.998287    0.998782    0.997110    0.998963    0.998399"
      ]
     },
     "execution_count": 12,
     "metadata": {},
     "output_type": "execute_result"
    }
   ],
   "source": [
    "newdf.describe()"
   ]
  },
  {
   "cell_type": "code",
   "execution_count": 13,
   "id": "4a011fe3",
   "metadata": {},
   "outputs": [],
   "source": [
    "newdf[0][0]=\"ashish Kumar SIngh\""
   ]
  },
  {
   "cell_type": "code",
   "execution_count": 14,
   "id": "14dcd2ef",
   "metadata": {},
   "outputs": [
    {
     "data": {
      "text/html": [
       "<div>\n",
       "<style scoped>\n",
       "    .dataframe tbody tr th:only-of-type {\n",
       "        vertical-align: middle;\n",
       "    }\n",
       "\n",
       "    .dataframe tbody tr th {\n",
       "        vertical-align: top;\n",
       "    }\n",
       "\n",
       "    .dataframe thead th {\n",
       "        text-align: right;\n",
       "    }\n",
       "</style>\n",
       "<table border=\"1\" class=\"dataframe\">\n",
       "  <thead>\n",
       "    <tr style=\"text-align: right;\">\n",
       "      <th></th>\n",
       "      <th>0</th>\n",
       "      <th>1</th>\n",
       "      <th>2</th>\n",
       "      <th>3</th>\n",
       "      <th>4</th>\n",
       "    </tr>\n",
       "  </thead>\n",
       "  <tbody>\n",
       "    <tr>\n",
       "      <th>0</th>\n",
       "      <td>ashish Kumar SIngh</td>\n",
       "      <td>0.094650</td>\n",
       "      <td>0.273500</td>\n",
       "      <td>0.724839</td>\n",
       "      <td>0.033768</td>\n",
       "    </tr>\n",
       "    <tr>\n",
       "      <th>1</th>\n",
       "      <td>0.823409</td>\n",
       "      <td>0.357506</td>\n",
       "      <td>0.055128</td>\n",
       "      <td>0.265273</td>\n",
       "      <td>0.008846</td>\n",
       "    </tr>\n",
       "    <tr>\n",
       "      <th>2</th>\n",
       "      <td>0.31445</td>\n",
       "      <td>0.689743</td>\n",
       "      <td>0.773020</td>\n",
       "      <td>0.758607</td>\n",
       "      <td>0.225985</td>\n",
       "    </tr>\n",
       "    <tr>\n",
       "      <th>3</th>\n",
       "      <td>0.953147</td>\n",
       "      <td>0.593030</td>\n",
       "      <td>0.079273</td>\n",
       "      <td>0.088944</td>\n",
       "      <td>0.027267</td>\n",
       "    </tr>\n",
       "    <tr>\n",
       "      <th>4</th>\n",
       "      <td>0.847229</td>\n",
       "      <td>0.604065</td>\n",
       "      <td>0.011600</td>\n",
       "      <td>0.211505</td>\n",
       "      <td>0.814884</td>\n",
       "    </tr>\n",
       "    <tr>\n",
       "      <th>...</th>\n",
       "      <td>...</td>\n",
       "      <td>...</td>\n",
       "      <td>...</td>\n",
       "      <td>...</td>\n",
       "      <td>...</td>\n",
       "    </tr>\n",
       "    <tr>\n",
       "      <th>329</th>\n",
       "      <td>0.257811</td>\n",
       "      <td>0.234869</td>\n",
       "      <td>0.961062</td>\n",
       "      <td>0.762032</td>\n",
       "      <td>0.225811</td>\n",
       "    </tr>\n",
       "    <tr>\n",
       "      <th>330</th>\n",
       "      <td>0.662765</td>\n",
       "      <td>0.661433</td>\n",
       "      <td>0.398514</td>\n",
       "      <td>0.765491</td>\n",
       "      <td>0.555305</td>\n",
       "    </tr>\n",
       "    <tr>\n",
       "      <th>331</th>\n",
       "      <td>0.116057</td>\n",
       "      <td>0.656433</td>\n",
       "      <td>0.129175</td>\n",
       "      <td>0.749635</td>\n",
       "      <td>0.899217</td>\n",
       "    </tr>\n",
       "    <tr>\n",
       "      <th>332</th>\n",
       "      <td>0.617367</td>\n",
       "      <td>0.174110</td>\n",
       "      <td>0.932883</td>\n",
       "      <td>0.119646</td>\n",
       "      <td>0.367340</td>\n",
       "    </tr>\n",
       "    <tr>\n",
       "      <th>333</th>\n",
       "      <td>0.915747</td>\n",
       "      <td>0.823366</td>\n",
       "      <td>0.640198</td>\n",
       "      <td>0.721345</td>\n",
       "      <td>0.929275</td>\n",
       "    </tr>\n",
       "  </tbody>\n",
       "</table>\n",
       "<p>334 rows × 5 columns</p>\n",
       "</div>"
      ],
      "text/plain": [
       "                      0         1         2         3         4\n",
       "0    ashish Kumar SIngh  0.094650  0.273500  0.724839  0.033768\n",
       "1              0.823409  0.357506  0.055128  0.265273  0.008846\n",
       "2               0.31445  0.689743  0.773020  0.758607  0.225985\n",
       "3              0.953147  0.593030  0.079273  0.088944  0.027267\n",
       "4              0.847229  0.604065  0.011600  0.211505  0.814884\n",
       "..                  ...       ...       ...       ...       ...\n",
       "329            0.257811  0.234869  0.961062  0.762032  0.225811\n",
       "330            0.662765  0.661433  0.398514  0.765491  0.555305\n",
       "331            0.116057  0.656433  0.129175  0.749635  0.899217\n",
       "332            0.617367  0.174110  0.932883  0.119646  0.367340\n",
       "333            0.915747  0.823366  0.640198  0.721345  0.929275\n",
       "\n",
       "[334 rows x 5 columns]"
      ]
     },
     "execution_count": 14,
     "metadata": {},
     "output_type": "execute_result"
    }
   ],
   "source": [
    "newdf"
   ]
  },
  {
   "cell_type": "code",
   "execution_count": 15,
   "id": "c514a7c9",
   "metadata": {},
   "outputs": [
    {
     "data": {
      "text/plain": [
       "pandas.core.frame.DataFrame"
      ]
     },
     "execution_count": 15,
     "metadata": {},
     "output_type": "execute_result"
    }
   ],
   "source": [
    "type(newdf)"
   ]
  },
  {
   "cell_type": "code",
   "execution_count": 16,
   "id": "071e8d6e",
   "metadata": {},
   "outputs": [
    {
     "data": {
      "text/plain": [
       "0     object\n",
       "1    float64\n",
       "2    float64\n",
       "3    float64\n",
       "4    float64\n",
       "dtype: object"
      ]
     },
     "execution_count": 16,
     "metadata": {},
     "output_type": "execute_result"
    }
   ],
   "source": [
    "newdf.dtypes"
   ]
  },
  {
   "cell_type": "code",
   "execution_count": 17,
   "id": "2e955621",
   "metadata": {},
   "outputs": [],
   "source": [
    "newdf[0][0]=0.333"
   ]
  },
  {
   "cell_type": "code",
   "execution_count": 18,
   "id": "294b850a",
   "metadata": {},
   "outputs": [
    {
     "data": {
      "text/plain": [
       "0     object\n",
       "1    float64\n",
       "2    float64\n",
       "3    float64\n",
       "4    float64\n",
       "dtype: object"
      ]
     },
     "execution_count": 18,
     "metadata": {},
     "output_type": "execute_result"
    }
   ],
   "source": [
    "newdf.dtypes"
   ]
  },
  {
   "cell_type": "code",
   "execution_count": 19,
   "id": "6759c7af",
   "metadata": {},
   "outputs": [
    {
     "data": {
      "text/plain": [
       "Index([  0,   1,   2,   3,   4,   5,   6,   7,   8,   9,\n",
       "       ...\n",
       "       324, 325, 326, 327, 328, 329, 330, 331, 332, 333],\n",
       "      dtype='int32', length=334)"
      ]
     },
     "execution_count": 19,
     "metadata": {},
     "output_type": "execute_result"
    }
   ],
   "source": [
    "newdf.index"
   ]
  },
  {
   "cell_type": "code",
   "execution_count": 20,
   "id": "03412d0f",
   "metadata": {},
   "outputs": [
    {
     "data": {
      "text/plain": [
       "RangeIndex(start=0, stop=5, step=1)"
      ]
     },
     "execution_count": 20,
     "metadata": {},
     "output_type": "execute_result"
    }
   ],
   "source": [
    "newdf.columns"
   ]
  },
  {
   "cell_type": "code",
   "execution_count": 21,
   "id": "3b2ad5b0",
   "metadata": {},
   "outputs": [
    {
     "ename": "AttributeError",
     "evalue": "'DataFrame' object has no attribute 'rows'",
     "output_type": "error",
     "traceback": [
      "\u001b[1;31m---------------------------------------------------------------------------\u001b[0m",
      "\u001b[1;31mAttributeError\u001b[0m                            Traceback (most recent call last)",
      "\u001b[1;32m~\\AppData\\Local\\Temp\\ipykernel_17624\\1219715451.py\u001b[0m in \u001b[0;36m?\u001b[1;34m()\u001b[0m\n\u001b[1;32m----> 1\u001b[1;33m \u001b[0mnewdf\u001b[0m\u001b[1;33m.\u001b[0m\u001b[0mrows\u001b[0m\u001b[1;33m\u001b[0m\u001b[1;33m\u001b[0m\u001b[0m\n\u001b[0m",
      "\u001b[1;32m~\\anaconda3\\Lib\\site-packages\\pandas\\core\\generic.py\u001b[0m in \u001b[0;36m?\u001b[1;34m(self, name)\u001b[0m\n\u001b[0;32m   5985\u001b[0m             \u001b[1;32mand\u001b[0m \u001b[0mname\u001b[0m \u001b[1;32mnot\u001b[0m \u001b[1;32min\u001b[0m \u001b[0mself\u001b[0m\u001b[1;33m.\u001b[0m\u001b[0m_accessors\u001b[0m\u001b[1;33m\u001b[0m\u001b[1;33m\u001b[0m\u001b[0m\n\u001b[0;32m   5986\u001b[0m             \u001b[1;32mand\u001b[0m \u001b[0mself\u001b[0m\u001b[1;33m.\u001b[0m\u001b[0m_info_axis\u001b[0m\u001b[1;33m.\u001b[0m\u001b[0m_can_hold_identifiers_and_holds_name\u001b[0m\u001b[1;33m(\u001b[0m\u001b[0mname\u001b[0m\u001b[1;33m)\u001b[0m\u001b[1;33m\u001b[0m\u001b[1;33m\u001b[0m\u001b[0m\n\u001b[0;32m   5987\u001b[0m         ):\n\u001b[0;32m   5988\u001b[0m             \u001b[1;32mreturn\u001b[0m \u001b[0mself\u001b[0m\u001b[1;33m[\u001b[0m\u001b[0mname\u001b[0m\u001b[1;33m]\u001b[0m\u001b[1;33m\u001b[0m\u001b[1;33m\u001b[0m\u001b[0m\n\u001b[1;32m-> 5989\u001b[1;33m         \u001b[1;32mreturn\u001b[0m \u001b[0mobject\u001b[0m\u001b[1;33m.\u001b[0m\u001b[0m__getattribute__\u001b[0m\u001b[1;33m(\u001b[0m\u001b[0mself\u001b[0m\u001b[1;33m,\u001b[0m \u001b[0mname\u001b[0m\u001b[1;33m)\u001b[0m\u001b[1;33m\u001b[0m\u001b[1;33m\u001b[0m\u001b[0m\n\u001b[0m",
      "\u001b[1;31mAttributeError\u001b[0m: 'DataFrame' object has no attribute 'rows'"
     ]
    }
   ],
   "source": [
    "newdf.rows"
   ]
  },
  {
   "cell_type": "code",
   "execution_count": 22,
   "id": "9f6777ed",
   "metadata": {},
   "outputs": [
    {
     "ename": "AttributeError",
     "evalue": "'DataFrame' object has no attribute 't'",
     "output_type": "error",
     "traceback": [
      "\u001b[1;31m---------------------------------------------------------------------------\u001b[0m",
      "\u001b[1;31mAttributeError\u001b[0m                            Traceback (most recent call last)",
      "\u001b[1;32m~\\AppData\\Local\\Temp\\ipykernel_17624\\1652245731.py\u001b[0m in \u001b[0;36m?\u001b[1;34m()\u001b[0m\n\u001b[1;32m----> 1\u001b[1;33m \u001b[0mnewdf\u001b[0m\u001b[1;33m.\u001b[0m\u001b[0mt\u001b[0m\u001b[1;33m\u001b[0m\u001b[1;33m\u001b[0m\u001b[0m\n\u001b[0m",
      "\u001b[1;32m~\\anaconda3\\Lib\\site-packages\\pandas\\core\\generic.py\u001b[0m in \u001b[0;36m?\u001b[1;34m(self, name)\u001b[0m\n\u001b[0;32m   5985\u001b[0m             \u001b[1;32mand\u001b[0m \u001b[0mname\u001b[0m \u001b[1;32mnot\u001b[0m \u001b[1;32min\u001b[0m \u001b[0mself\u001b[0m\u001b[1;33m.\u001b[0m\u001b[0m_accessors\u001b[0m\u001b[1;33m\u001b[0m\u001b[1;33m\u001b[0m\u001b[0m\n\u001b[0;32m   5986\u001b[0m             \u001b[1;32mand\u001b[0m \u001b[0mself\u001b[0m\u001b[1;33m.\u001b[0m\u001b[0m_info_axis\u001b[0m\u001b[1;33m.\u001b[0m\u001b[0m_can_hold_identifiers_and_holds_name\u001b[0m\u001b[1;33m(\u001b[0m\u001b[0mname\u001b[0m\u001b[1;33m)\u001b[0m\u001b[1;33m\u001b[0m\u001b[1;33m\u001b[0m\u001b[0m\n\u001b[0;32m   5987\u001b[0m         ):\n\u001b[0;32m   5988\u001b[0m             \u001b[1;32mreturn\u001b[0m \u001b[0mself\u001b[0m\u001b[1;33m[\u001b[0m\u001b[0mname\u001b[0m\u001b[1;33m]\u001b[0m\u001b[1;33m\u001b[0m\u001b[1;33m\u001b[0m\u001b[0m\n\u001b[1;32m-> 5989\u001b[1;33m         \u001b[1;32mreturn\u001b[0m \u001b[0mobject\u001b[0m\u001b[1;33m.\u001b[0m\u001b[0m__getattribute__\u001b[0m\u001b[1;33m(\u001b[0m\u001b[0mself\u001b[0m\u001b[1;33m,\u001b[0m \u001b[0mname\u001b[0m\u001b[1;33m)\u001b[0m\u001b[1;33m\u001b[0m\u001b[1;33m\u001b[0m\u001b[0m\n\u001b[0m",
      "\u001b[1;31mAttributeError\u001b[0m: 'DataFrame' object has no attribute 't'"
     ]
    }
   ],
   "source": [
    "newdf.t"
   ]
  },
  {
   "cell_type": "code",
   "execution_count": null,
   "id": "00e6241b",
   "metadata": {},
   "outputs": [],
   "source": []
  }
 ],
 "metadata": {
  "kernelspec": {
   "display_name": "Python 3 (ipykernel)",
   "language": "python",
   "name": "python3"
  },
  "language_info": {
   "codemirror_mode": {
    "name": "ipython",
    "version": 3
   },
   "file_extension": ".py",
   "mimetype": "text/x-python",
   "name": "python",
   "nbconvert_exporter": "python",
   "pygments_lexer": "ipython3",
   "version": "3.11.5"
  }
 },
 "nbformat": 4,
 "nbformat_minor": 5
}
