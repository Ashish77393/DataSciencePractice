{
 "cells": [
  {
   "cell_type": "markdown",
   "id": "d9e2bfbc",
   "metadata": {},
   "source": [
    "# T-Test stats"
   ]
  },
  {
   "cell_type": "code",
   "execution_count": 112,
   "id": "a820ba22",
   "metadata": {},
   "outputs": [],
   "source": [
    "import scipy.stats as st\n",
    "from scipy.stats import chi2\n",
    "import numpy as np\n",
    "import matplotlib.pyplot as plt"
   ]
  },
  {
   "cell_type": "code",
   "execution_count": 113,
   "id": "ea05ec6a",
   "metadata": {},
   "outputs": [
    {
     "data": {
      "text/plain": [
       "-1.7108820799094282"
      ]
     },
     "execution_count": 113,
     "metadata": {},
     "output_type": "execute_result"
    }
   ],
   "source": [
    "t_table=st.t.ppf(0.05,24)\n",
    "t_table"
   ]
  },
  {
   "cell_type": "code",
   "execution_count": 114,
   "id": "02d7fcdd",
   "metadata": {},
   "outputs": [],
   "source": [
    "x=148\n",
    "u=150\n",
    "n=25\n",
    "std=5\n"
   ]
  },
  {
   "cell_type": "code",
   "execution_count": 115,
   "id": "6e1577d4",
   "metadata": {},
   "outputs": [
    {
     "data": {
      "text/plain": [
       "-2.0"
      ]
     },
     "execution_count": 115,
     "metadata": {},
     "output_type": "execute_result"
    }
   ],
   "source": [
    "t_cal=(x-u)/(std/np.sqrt(n))\n",
    "t_cal"
   ]
  },
  {
   "cell_type": "code",
   "execution_count": 116,
   "id": "1fafdaa1",
   "metadata": {},
   "outputs": [
    {
     "name": "stdout",
     "output_type": "stream",
     "text": [
      "ha is right\n"
     ]
    }
   ],
   "source": [
    "if t_table>t_cal:\n",
    "    print(\"ha is right\")\n",
    "else:\n",
    "    print(\"h0 is rigth\")"
   ]
  },
  {
   "cell_type": "code",
   "execution_count": 117,
   "id": "cfdc7573",
   "metadata": {},
   "outputs": [
    {
     "data": {
      "text/plain": [
       "-2.1266740201670196"
      ]
     },
     "execution_count": 117,
     "metadata": {},
     "output_type": "execute_result"
    }
   ],
   "source": [
    "t_table2=st.t.ppf(0.02,38)\n",
    "t_table2"
   ]
  },
  {
   "cell_type": "code",
   "execution_count": 118,
   "id": "e12b210b",
   "metadata": {},
   "outputs": [
    {
     "data": {
      "text/plain": [
       "2.862991671569341"
      ]
     },
     "execution_count": 118,
     "metadata": {},
     "output_type": "execute_result"
    }
   ],
   "source": [
    "z_cal2=(80-75)/(np.sqrt((25/20)+(36/20)))\n",
    "z_cal2"
   ]
  },
  {
   "cell_type": "code",
   "execution_count": 119,
   "id": "8fe5d56e",
   "metadata": {},
   "outputs": [
    {
     "name": "stdout",
     "output_type": "stream",
     "text": [
      "h0 is rigth\n"
     ]
    }
   ],
   "source": [
    "if t_table<t_cal:\n",
    "    print(\"ha is right\")\n",
    "else:\n",
    "    print(\"h0 is rigth\")"
   ]
  },
  {
   "cell_type": "code",
   "execution_count": 120,
   "id": "725b17f2",
   "metadata": {},
   "outputs": [
    {
     "data": {
      "text/plain": [
       "2.093024054408263"
      ]
     },
     "execution_count": 120,
     "metadata": {},
     "output_type": "execute_result"
    }
   ],
   "source": [
    "t_table3=st.t.ppf(1-0.025,19)\n",
    "t_table3"
   ]
  },
  {
   "cell_type": "code",
   "execution_count": 121,
   "id": "909240d8",
   "metadata": {},
   "outputs": [],
   "source": [
    "before=np.array([50,60,45,65,55,70,40,75,80,65,70,60,60,50,55,45,75,60,50,65])\n",
    "after=np.array([60,70,55,75,65,80,50,85,90,70,75,65,55,60,50,80,65,55,70,75])\n",
    "after_len=len(after)\n",
    "before_len=len(before)"
   ]
  },
  {
   "cell_type": "code",
   "execution_count": 122,
   "id": "bab53145",
   "metadata": {},
   "outputs": [
    {
     "data": {
      "text/plain": [
       "(array([50, 60, 45, 65, 55, 70, 40, 75, 80, 65, 70, 60, 60, 50, 55, 45, 75,\n",
       "        60, 50, 65]),\n",
       " array([60, 70, 55, 75, 65, 80, 50, 85, 90, 70, 75, 65, 55, 60, 50, 80, 65,\n",
       "        55, 70, 75]),\n",
       " 20,\n",
       " 20)"
      ]
     },
     "execution_count": 122,
     "metadata": {},
     "output_type": "execute_result"
    }
   ],
   "source": [
    "before,after,after_len,before_len"
   ]
  },
  {
   "cell_type": "code",
   "execution_count": 123,
   "id": "0c643ab2",
   "metadata": {},
   "outputs": [],
   "source": [
    "mean_after=np.mean(after)\n",
    "mean_before=np.mean(before)\n",
    "std_after=np.std(after)\n",
    "std_before=np.std(before)"
   ]
  },
  {
   "cell_type": "code",
   "execution_count": 124,
   "id": "1c2e982d",
   "metadata": {},
   "outputs": [
    {
     "data": {
      "text/plain": [
       "2.225957160349513"
      ]
     },
     "execution_count": 124,
     "metadata": {},
     "output_type": "execute_result"
    }
   ],
   "source": [
    "t_cal3=(mean_after-mean_before)/(np.sqrt(((std_after*std_after)/len(after))+((std_before*std_before)/len(before))))\n",
    "t_cal3"
   ]
  },
  {
   "cell_type": "code",
   "execution_count": 125,
   "id": "21792e08",
   "metadata": {},
   "outputs": [
    {
     "name": "stdout",
     "output_type": "stream",
     "text": [
      "ha is right\n"
     ]
    }
   ],
   "source": [
    "if t_cal3>t_table3:\n",
    "    print(\"ha is right\")\n",
    "else:\n",
    "    print(\"h0 is right\")"
   ]
  },
  {
   "cell_type": "code",
   "execution_count": 126,
   "id": "fd10f03d",
   "metadata": {},
   "outputs": [
    {
     "data": {
      "text/plain": [
       "11.070497693516351"
      ]
     },
     "execution_count": 126,
     "metadata": {},
     "output_type": "execute_result"
    }
   ],
   "source": [
    "chi_table=chi2.ppf(1-0.05,5)\n",
    "chi_table"
   ]
  },
  {
   "cell_type": "code",
   "execution_count": 127,
   "id": "94fe919b",
   "metadata": {},
   "outputs": [
    {
     "data": {
      "text/plain": [
       "120"
      ]
     },
     "execution_count": 127,
     "metadata": {},
     "output_type": "execute_result"
    }
   ],
   "source": [
    "ob=np.array([22,17,20,26,22,13])\n",
    "ex=np.array([20,20,20,20,20,20])\n",
    "np.sum(ob)\n",
    "np.sum(ex)\n"
   ]
  },
  {
   "cell_type": "code",
   "execution_count": 128,
   "id": "a95cd272",
   "metadata": {},
   "outputs": [],
   "source": [
    "chi_cal=np.sum(np.square(ob-ex)/ex)"
   ]
  },
  {
   "cell_type": "code",
   "execution_count": 129,
   "id": "6de3540d",
   "metadata": {},
   "outputs": [
    {
     "name": "stdout",
     "output_type": "stream",
     "text": [
      "die is faired\n"
     ]
    }
   ],
   "source": [
    "if chi_table>chi_cal:\n",
    "    print(\"die is faired\")\n",
    "else:\n",
    "    print(\"die is not faired\")"
   ]
  },
  {
   "cell_type": "code",
   "execution_count": null,
   "id": "33ab155d",
   "metadata": {},
   "outputs": [],
   "source": []
  },
  {
   "cell_type": "code",
   "execution_count": null,
   "id": "9088bdda",
   "metadata": {},
   "outputs": [],
   "source": []
  },
  {
   "cell_type": "code",
   "execution_count": null,
   "id": "88a58b82",
   "metadata": {},
   "outputs": [],
   "source": []
  },
  {
   "cell_type": "code",
   "execution_count": null,
   "id": "eebf5526",
   "metadata": {},
   "outputs": [],
   "source": []
  }
 ],
 "metadata": {
  "kernelspec": {
   "display_name": "Python 3 (ipykernel)",
   "language": "python",
   "name": "python3"
  },
  "language_info": {
   "codemirror_mode": {
    "name": "ipython",
    "version": 3
   },
   "file_extension": ".py",
   "mimetype": "text/x-python",
   "name": "python",
   "nbconvert_exporter": "python",
   "pygments_lexer": "ipython3",
   "version": "3.11.5"
  }
 },
 "nbformat": 4,
 "nbformat_minor": 5
}
