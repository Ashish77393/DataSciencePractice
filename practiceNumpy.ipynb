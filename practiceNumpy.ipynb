{
 "cells": [
  {
   "cell_type": "code",
   "execution_count": 1,
   "id": "7265676c",
   "metadata": {},
   "outputs": [],
   "source": [
    "import numpy as np"
   ]
  },
  {
   "cell_type": "code",
   "execution_count": 6,
   "id": "886a1856",
   "metadata": {},
   "outputs": [
    {
     "name": "stdout",
     "output_type": "stream",
     "text": [
      "[45 36 56]\n",
      "[-21  30 -12]\n",
      "[396  99 748]\n",
      "[ 0.36363636 11.          0.64705882]\n"
     ]
    },
    {
     "ename": "NameError",
     "evalue": "name 'arr' is not defined",
     "output_type": "error",
     "traceback": [
      "\u001b[1;31m---------------------------------------------------------------------------\u001b[0m",
      "\u001b[1;31mNameError\u001b[0m                                 Traceback (most recent call last)",
      "Cell \u001b[1;32mIn[6], line 11\u001b[0m\n\u001b[0;32m      9\u001b[0m \u001b[38;5;28mprint\u001b[39m(e)\n\u001b[0;32m     10\u001b[0m \u001b[38;5;28mprint\u001b[39m(f)\n\u001b[1;32m---> 11\u001b[0m \u001b[38;5;28mprint\u001b[39m(arr[\u001b[38;5;241m1\u001b[39m:\u001b[38;5;241m2\u001b[39m])\n",
      "\u001b[1;31mNameError\u001b[0m: name 'arr' is not defined"
     ]
    }
   ],
   "source": [
    "a=np.array([12,33,22])\n",
    "b=np.array([33,3,34,])\n",
    "c=a+b\n",
    "d=a-b\n",
    "e=a*b\n",
    "f=a/b\n",
    "print(c)\n",
    "print(d)\n",
    "print(e)\n",
    "print(f)\n",
    "print(arr[1:2])"
   ]
  },
  {
   "cell_type": "code",
   "execution_count": 7,
   "id": "8e08b93d",
   "metadata": {},
   "outputs": [
    {
     "name": "stdout",
     "output_type": "stream",
     "text": [
      "[[22 33 22 33]\n",
      " [22 11 22 33]\n",
      " [22 33 22 11]\n",
      " [22 11 22 11]]\n"
     ]
    }
   ],
   "source": [
    "r=np.array([\n",
    "    [22,33,22,33],[22,11,22,33],[22,33,22,11],[22,11,22,11]\n",
    "])\n",
    "print(r)"
   ]
  },
  {
   "cell_type": "code",
   "execution_count": 8,
   "id": "462b184e",
   "metadata": {},
   "outputs": [
    {
     "name": "stdout",
     "output_type": "stream",
     "text": [
      "[[22 11 22 33]]\n"
     ]
    }
   ],
   "source": [
    "print(r[1:2])"
   ]
  },
  {
   "cell_type": "code",
   "execution_count": 9,
   "id": "89ccf535",
   "metadata": {},
   "outputs": [
    {
     "name": "stdout",
     "output_type": "stream",
     "text": [
      "33\n"
     ]
    }
   ],
   "source": [
    "print(r[1,3])"
   ]
  },
  {
   "cell_type": "code",
   "execution_count": 12,
   "id": "48dd29a6",
   "metadata": {},
   "outputs": [
    {
     "name": "stdout",
     "output_type": "stream",
     "text": [
      "[22 11 22]\n"
     ]
    }
   ],
   "source": [
    "print(r[1,0:3])"
   ]
  },
  {
   "cell_type": "code",
   "execution_count": 13,
   "id": "e984446f",
   "metadata": {},
   "outputs": [
    {
     "name": "stdout",
     "output_type": "stream",
     "text": [
      "(4, 4)\n"
     ]
    }
   ],
   "source": [
    "print(np.shape(r))"
   ]
  },
  {
   "cell_type": "code",
   "execution_count": 14,
   "id": "355f2c06",
   "metadata": {},
   "outputs": [
    {
     "name": "stdout",
     "output_type": "stream",
     "text": [
      "16\n"
     ]
    }
   ],
   "source": [
    "print(np.size(r))"
   ]
  },
  {
   "cell_type": "code",
   "execution_count": 15,
   "id": "28370ce6",
   "metadata": {},
   "outputs": [
    {
     "name": "stdout",
     "output_type": "stream",
     "text": [
      "2\n"
     ]
    }
   ],
   "source": [
    "print(np.ndim(r))"
   ]
  },
  {
   "cell_type": "code",
   "execution_count": 16,
   "id": "6ac44a5b",
   "metadata": {},
   "outputs": [
    {
     "name": "stdout",
     "output_type": "stream",
     "text": [
      "int32\n"
     ]
    }
   ],
   "source": [
    "print(r.dtype)"
   ]
  },
  {
   "cell_type": "code",
   "execution_count": 17,
   "id": "c80617c4",
   "metadata": {},
   "outputs": [
    {
     "name": "stdout",
     "output_type": "stream",
     "text": [
      "4\n"
     ]
    }
   ],
   "source": [
    "print(len(r))\n"
   ]
  },
  {
   "cell_type": "code",
   "execution_count": 18,
   "id": "f69ec78b",
   "metadata": {},
   "outputs": [
    {
     "data": {
      "text/plain": [
       "array([[22., 33., 22., 33.],\n",
       "       [22., 11., 22., 33.],\n",
       "       [22., 33., 22., 11.],\n",
       "       [22., 11., 22., 11.]])"
      ]
     },
     "execution_count": 18,
     "metadata": {},
     "output_type": "execute_result"
    }
   ],
   "source": [
    "r.astype(float)"
   ]
  },
  {
   "cell_type": "code",
   "execution_count": 19,
   "id": "e89655fd",
   "metadata": {},
   "outputs": [
    {
     "data": {
      "text/plain": [
       "array([[22, 33, 22, 33],\n",
       "       [22, 11, 22, 33],\n",
       "       [22, 33, 22, 11],\n",
       "       [22, 11, 22, 11]])"
      ]
     },
     "execution_count": 19,
     "metadata": {},
     "output_type": "execute_result"
    }
   ],
   "source": [
    "r.astype(int)"
   ]
  },
  {
   "cell_type": "code",
   "execution_count": 20,
   "id": "8f21ba4d",
   "metadata": {},
   "outputs": [
    {
     "name": "stdout",
     "output_type": "stream",
     "text": [
      "[45 36 56]\n"
     ]
    }
   ],
   "source": [
    "print(a+b)"
   ]
  },
  {
   "cell_type": "code",
   "execution_count": 21,
   "id": "9118c56d",
   "metadata": {},
   "outputs": [
    {
     "name": "stdout",
     "output_type": "stream",
     "text": [
      "[ 64 125 216 343]\n"
     ]
    }
   ],
   "source": [
    "s=np.array([4,5,6,7])\n",
    "p=np.array([3])\n",
    "print(np.power(s,p))"
   ]
  },
  {
   "cell_type": "code",
   "execution_count": 26,
   "id": "c17be587",
   "metadata": {},
   "outputs": [
    {
     "name": "stdout",
     "output_type": "stream",
     "text": [
      "[4. 5. 6. 7.]\n"
     ]
    }
   ],
   "source": [
    "x=np.array([16,25,36,49])\n",
    "y=x.astype(int)\n",
    "print(np.sqrt(y))"
   ]
  },
  {
   "cell_type": "code",
   "execution_count": null,
   "id": "e552e993",
   "metadata": {},
   "outputs": [],
   "source": []
  }
 ],
 "metadata": {
  "kernelspec": {
   "display_name": "Python 3 (ipykernel)",
   "language": "python",
   "name": "python3"
  },
  "language_info": {
   "codemirror_mode": {
    "name": "ipython",
    "version": 3
   },
   "file_extension": ".py",
   "mimetype": "text/x-python",
   "name": "python",
   "nbconvert_exporter": "python",
   "pygments_lexer": "ipython3",
   "version": "3.11.5"
  }
 },
 "nbformat": 4,
 "nbformat_minor": 5
}
