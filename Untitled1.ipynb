{
 "cells": [
  {
   "cell_type": "code",
   "execution_count": null,
   "id": "17828082-0096-43f8-b69f-f73a19a23da3",
   "metadata": {},
   "outputs": [],
   "source": []
  }
 ],
 "metadata": {
  "kernelspec": {
   "display_name": "",
   "name": ""
  },
  "language_info": {
   "name": ""
  }
 },
 "nbformat": 4,
 "nbformat_minor": 5
}
